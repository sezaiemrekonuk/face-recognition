{
 "cells": [
  {
   "metadata": {},
   "cell_type": "markdown",
   "source": "# Face Recognition on Yale Faces Dataset",
   "id": "98ce61e4a175448d"
  },
  {
   "metadata": {},
   "cell_type": "markdown",
   "source": "## Importing Libraries",
   "id": "82b077652d703d2c"
  },
  {
   "metadata": {
    "ExecuteTime": {
     "end_time": "2025-03-20T22:02:25.065595Z",
     "start_time": "2025-03-20T22:02:24.829894Z"
    }
   },
   "cell_type": "code",
   "source": [
    "import cv2\n",
    "import numpy as np\n",
    "from PIL import Image\n",
    "import os"
   ],
   "id": "eccf36e6bb20ae8d",
   "outputs": [],
   "execution_count": 2
  },
  {
   "metadata": {},
   "cell_type": "markdown",
   "source": "## Loading the dataset",
   "id": "ee5eb5db943827ce"
  },
  {
   "metadata": {
    "ExecuteTime": {
     "end_time": "2025-03-20T22:02:25.112298Z",
     "start_time": "2025-03-20T22:02:25.070878Z"
    }
   },
   "cell_type": "code",
   "source": [
    "dataset_path = \"data\"\n",
    "\n",
    "os.listdir(dataset_path)"
   ],
   "id": "bc45aa5e69509738",
   "outputs": [
    {
     "ename": "FileNotFoundError",
     "evalue": "[WinError 3] The system cannot find the path specified: 'data'",
     "output_type": "error",
     "traceback": [
      "\u001B[1;31m---------------------------------------------------------------------------\u001B[0m",
      "\u001B[1;31mFileNotFoundError\u001B[0m                         Traceback (most recent call last)",
      "Cell \u001B[1;32mIn[3], line 3\u001B[0m\n\u001B[0;32m      1\u001B[0m dataset_path \u001B[38;5;241m=\u001B[39m \u001B[38;5;124m\"\u001B[39m\u001B[38;5;124mdata\u001B[39m\u001B[38;5;124m\"\u001B[39m\n\u001B[1;32m----> 3\u001B[0m \u001B[43mos\u001B[49m\u001B[38;5;241;43m.\u001B[39;49m\u001B[43mlistdir\u001B[49m\u001B[43m(\u001B[49m\u001B[43mdataset_path\u001B[49m\u001B[43m)\u001B[49m\n",
      "\u001B[1;31mFileNotFoundError\u001B[0m: [WinError 3] The system cannot find the path specified: 'data'"
     ]
    }
   ],
   "execution_count": 3
  },
  {
   "metadata": {},
   "cell_type": "markdown",
   "source": "## Splitting the dataset to test and train",
   "id": "4bd59c1af3fffacf"
  },
  {
   "metadata": {
    "ExecuteTime": {
     "end_time": "2025-03-20T22:02:25.114929Z",
     "start_time": "2025-03-20T21:23:53.946197Z"
    }
   },
   "cell_type": "code",
   "source": [
    "import shutil\n",
    "\n",
    "def split_files_test_train(ratio, path):\n",
    "    files = os.listdir(path)\n",
    "    num_of_files = len(files)\n",
    "    num_of_test_files = int(num_of_files * ratio)\n",
    "    test_files = np.random.choice(files, num_of_test_files, replace=False)\n",
    "    train_files = [file for file in files if file not in test_files]\n",
    "    return test_files, train_files\n",
    "\n",
    "def carry_files_to_folder(files, path, new_path):\n",
    "    if not os.path.exists(new_path):\n",
    "        os.makedirs(new_path)\n",
    "\n",
    "        # print absolute path\n",
    "        print(f\"Directory {os.path.abspath(new_path)} created\")\n",
    "    for file in files:\n",
    "        file_path = os.path.join(path, file)\n",
    "        new_file_path = os.path.join(new_path, file)\n",
    "        shutil.move(file_path, new_file_path)\n",
    "\n",
    "dataset_path = \"data\"\n",
    "test_files, train_files = split_files_test_train(0.1, dataset_path)\n",
    "carry_files_to_folder(train_files, dataset_path, 'train')\n",
    "carry_files_to_folder(test_files, dataset_path, 'test')"
   ],
   "id": "8fcca263a92ee1dc",
   "outputs": [],
   "execution_count": 5
  },
  {
   "metadata": {},
   "cell_type": "markdown",
   "source": "## Testing directories",
   "id": "e08ae46401b4015c"
  },
  {
   "metadata": {
    "ExecuteTime": {
     "end_time": "2025-03-20T22:02:25.118488800Z",
     "start_time": "2025-03-20T21:23:53.977491Z"
    }
   },
   "cell_type": "code",
   "source": [
    "# add .gif to each file to make it accessible by Image.open\n",
    "for file in os.listdir('train'):\n",
    "    os.rename(f'train/{file}', f'train/{file}.gif')\n",
    "for file in os.listdir('test'):\n",
    "    os.rename(f'test/{file}', f'test/{file}.gif')"
   ],
   "id": "68dfaff0dc2d75d2",
   "outputs": [],
   "execution_count": 6
  },
  {
   "metadata": {},
   "cell_type": "markdown",
   "source": "## Getting image datas",
   "id": "ff1976c63443d657"
  },
  {
   "metadata": {
    "ExecuteTime": {
     "end_time": "2025-03-20T22:02:25.118488800Z",
     "start_time": "2025-03-20T21:23:54.259791Z"
    }
   },
   "cell_type": "code",
   "source": [
    "def get_image_data(path):\n",
    "    paths = [img_file for img_file in os.listdir(path) if img_file.endswith('.gif')]\n",
    "    faces = []\n",
    "    ids = []\n",
    "\n",
    "    for image_path in paths:\n",
    "        image = Image.open(f'{path}/{image_path}').convert('L')\n",
    "\n",
    "        image_np = np.array(image, 'uint8')\n",
    "        image_id = int(image_path.split('.')[0].replace('subject', ''))\n",
    "\n",
    "        faces.append(image_np)\n",
    "        ids.append(image_id)\n",
    "\n",
    "    return np.array(ids), faces\n",
    "\n",
    "ids, faces = get_image_data('train')"
   ],
   "id": "39032891c0b78561",
   "outputs": [],
   "execution_count": 7
  },
  {
   "metadata": {},
   "cell_type": "markdown",
   "source": "## Training and saving the model",
   "id": "595c91850c7971c"
  },
  {
   "metadata": {
    "ExecuteTime": {
     "end_time": "2025-03-20T22:02:25.119500600Z",
     "start_time": "2025-03-20T21:33:12.568328Z"
    }
   },
   "cell_type": "code",
   "source": [
    "import cv2.face as cv\n",
    "\n",
    "lbph_classifier = cv.LBPHFaceRecognizer.create()\n",
    "lbph_classifier.train(faces, np.array(ids))\n",
    "\n",
    "classifier_yml = 'lbph_classifier.yml'\n",
    "\n",
    "lbph_classifier.write(classifier_yml)"
   ],
   "id": "c66ec31736b4048e",
   "outputs": [],
   "execution_count": 9
  },
  {
   "metadata": {},
   "cell_type": "markdown",
   "source": "## Testing the dataset",
   "id": "bd368868f8c7822"
  },
  {
   "metadata": {
    "ExecuteTime": {
     "end_time": "2025-03-20T22:02:25.119500600Z",
     "start_time": "2025-03-20T22:02:21.262743Z"
    }
   },
   "cell_type": "code",
   "source": [
    "lbph_face_classifier = cv.LBPHFaceRecognizer.create()\n",
    "lbph_face_classifier.read(classifier_yml)\n",
    "\n",
    "# test on test data\n",
    "def test_lbph_face_classifier(path = 'test'):\n",
    "    ids, faces = get_image_data(path)\n",
    "\n",
    "    predictions = []\n",
    "\n",
    "    for i, face in enumerate(faces):\n",
    "        label, confidence = lbph_face_classifier.predict(face)\n",
    "        predictions.append((label, confidence))\n",
    "\n",
    "predictions = test_lbph_face_classifier()\n",
    "\n",
    "predictions\n"
   ],
   "id": "6eaa973ba5932563",
   "outputs": [
    {
     "ename": "NameError",
     "evalue": "name 'cv' is not defined",
     "output_type": "error",
     "traceback": [
      "\u001B[1;31m---------------------------------------------------------------------------\u001B[0m",
      "\u001B[1;31mNameError\u001B[0m                                 Traceback (most recent call last)",
      "Cell \u001B[1;32mIn[1], line 1\u001B[0m\n\u001B[1;32m----> 1\u001B[0m lbph_face_classifier \u001B[38;5;241m=\u001B[39m \u001B[43mcv\u001B[49m\u001B[38;5;241m.\u001B[39mLBPHFaceRecognizer\u001B[38;5;241m.\u001B[39mcreate()\n\u001B[0;32m      2\u001B[0m lbph_face_classifier\u001B[38;5;241m.\u001B[39mread(classifier_yml)\n\u001B[0;32m      4\u001B[0m \u001B[38;5;66;03m# test on test data\u001B[39;00m\n",
      "\u001B[1;31mNameError\u001B[0m: name 'cv' is not defined"
     ]
    }
   ],
   "execution_count": 1
  }
 ],
 "metadata": {
  "kernelspec": {
   "name": "python3",
   "language": "python",
   "display_name": "Python 3 (ipykernel)"
  }
 },
 "nbformat": 5,
 "nbformat_minor": 9
}
